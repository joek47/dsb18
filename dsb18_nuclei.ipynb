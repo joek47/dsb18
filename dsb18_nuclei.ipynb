{
 "cells": [
  {
   "cell_type": "markdown",
   "metadata": {},
   "source": [
    "# Mask R-CNN - Train on Shapes Dataset\n",
    "\n",
    "\n",
    "This notebook shows how to train Mask R-CNN on your own dataset. To keep things simple we use a synthetic dataset of shapes (squares, triangles, and circles) which enables fast training. You'd still need a GPU, though, because the network backbone is a Resnet101, which would be too slow to train on a CPU. On a GPU, you can start to get okay-ish results in a few minutes, and good results in less than an hour.\n",
    "\n",
    "The code of the *Shapes* dataset is included below. It generates images on the fly, so it doesn't require downloading any data. And it can generate images of any size, so we pick a small image size to train faster. "
   ]
  },
  {
   "cell_type": "code",
   "execution_count": 1,
   "metadata": {},
   "outputs": [
    {
     "name": "stderr",
     "output_type": "stream",
     "text": [
      "/home/ubuntu/anaconda2/envs/py34/lib/python3.6/site-packages/h5py/__init__.py:36: FutureWarning: Conversion of the second argument of issubdtype from `float` to `np.floating` is deprecated. In future, it will be treated as `np.float64 == np.dtype(float).type`.\n",
      "  from ._conv import register_converters as _register_converters\n",
      "Using TensorFlow backend.\n"
     ]
    },
    {
     "data": {
      "text/plain": [
       "['/job:localhost/replica:0/task:0/device:GPU:0']"
      ]
     },
     "execution_count": 1,
     "metadata": {},
     "output_type": "execute_result"
    }
   ],
   "source": [
    "from keras import backend as K\n",
    "K.tensorflow_backend._get_available_gpus()"
   ]
  },
  {
   "cell_type": "code",
   "execution_count": 2,
   "metadata": {},
   "outputs": [
    {
     "name": "stdout",
     "output_type": "stream",
     "text": [
      "[name: \"/device:CPU:0\"\n",
      "device_type: \"CPU\"\n",
      "memory_limit: 268435456\n",
      "locality {\n",
      "}\n",
      "incarnation: 8479465200153713215\n",
      ", name: \"/device:GPU:0\"\n",
      "device_type: \"GPU\"\n",
      "memory_limit: 358350848\n",
      "locality {\n",
      "  bus_id: 1\n",
      "}\n",
      "incarnation: 7253800780225507143\n",
      "physical_device_desc: \"device: 0, name: Tesla K80, pci bus id: 0000:00:1e.0, compute capability: 3.7\"\n",
      "]\n"
     ]
    }
   ],
   "source": [
    "from tensorflow.python.client import device_lib\n",
    "print(device_lib.list_local_devices())"
   ]
  },
  {
   "cell_type": "code",
   "execution_count": 3,
   "metadata": {
    "collapsed": true
   },
   "outputs": [],
   "source": [
    "import os\n",
    "import sys\n",
    "import random\n",
    "import math\n",
    "import re\n",
    "import time\n",
    "import numpy as np\n",
    "import cv2\n",
    "import matplotlib\n",
    "import matplotlib.pyplot as plt\n",
    "import pathlib\n",
    "import imageio\n",
    "import utils\n",
    "import model as modellib\n",
    "import visualize\n",
    "import pandas as pd\n",
    "import pdb\n",
    "\n",
    "from skimage.io import imread, imread_collection\n",
    "from config import Config\n",
    "from model import log\n",
    "\n",
    "\n",
    "%matplotlib inline \n",
    "\n",
    "# Root directory of the project\n",
    "ROOT_DIR = os.getcwd()\n",
    "\n",
    "# Directory to save logs and trained model\n",
    "MODEL_DIR = os.path.join(ROOT_DIR, \"logs\")\n",
    "\n",
    "# Local path to trained weights file\n",
    "COCO_MODEL_PATH = os.path.join(ROOT_DIR, \"mask_rcnn_coco.h5\")\n",
    "# Download COCO trained weights from Releases if needed\n",
    "if not os.path.exists(COCO_MODEL_PATH):\n",
    "    utils.download_trained_weights(COCO_MODEL_PATH)\n",
    "    \n",
    "def rle_encoding(x):\n",
    "    '''\n",
    "    x: numpy array of shape (height, width), 1 - mask, 0 - background\n",
    "    Returns run length as list\n",
    "    '''\n",
    "    dots = np.where(x.T.flatten()==1)[0] # .T sets Fortran order down-then-right\n",
    "    run_lengths = []\n",
    "    prev = -2\n",
    "    for b in dots:\n",
    "        if (b>prev+1): run_lengths.extend((b+1, 0))\n",
    "        run_lengths[-1] += 1\n",
    "        prev = b\n",
    "    return run_lengths"
   ]
  },
  {
   "cell_type": "markdown",
   "metadata": {},
   "source": [
    "## Configurations"
   ]
  },
  {
   "cell_type": "code",
   "execution_count": 16,
   "metadata": {},
   "outputs": [
    {
     "name": "stdout",
     "output_type": "stream",
     "text": [
      "\n",
      "Configurations:\n",
      "BACKBONE_SHAPES                [[128 128]\n",
      " [ 64  64]\n",
      " [ 32  32]\n",
      " [ 16  16]\n",
      " [  8   8]]\n",
      "BACKBONE_STRIDES               [4, 8, 16, 32, 64]\n",
      "BATCH_SIZE                     2\n",
      "BBOX_STD_DEV                   [0.1 0.1 0.2 0.2]\n",
      "DETECTION_MAX_INSTANCES        100\n",
      "DETECTION_MIN_CONFIDENCE       0.7\n",
      "DETECTION_NMS_THRESHOLD        0.0\n",
      "GPU_COUNT                      1\n",
      "IMAGES_PER_GPU                 2\n",
      "IMAGE_MAX_DIM                  512\n",
      "IMAGE_MIN_DIM                  512\n",
      "IMAGE_PADDING                  True\n",
      "IMAGE_SHAPE                    [512 512   3]\n",
      "LEARNING_MOMENTUM              0.9\n",
      "LEARNING_RATE                  0.001\n",
      "MASK_POOL_SIZE                 14\n",
      "MASK_SHAPE                     [28, 28]\n",
      "MAX_GT_INSTANCES               100\n",
      "MEAN_PIXEL                     [123.7 116.8 103.9]\n",
      "MINI_MASK_SHAPE                (56, 56)\n",
      "NAME                           shapes\n",
      "NUM_CLASSES                    2\n",
      "POOL_SIZE                      7\n",
      "POST_NMS_ROIS_INFERENCE        1000\n",
      "POST_NMS_ROIS_TRAINING         2000\n",
      "ROI_POSITIVE_RATIO             0.33\n",
      "RPN_ANCHOR_RATIOS              [0.5, 1, 2]\n",
      "RPN_ANCHOR_SCALES              (8, 16, 32, 64, 128)\n",
      "RPN_ANCHOR_STRIDE              1\n",
      "RPN_BBOX_STD_DEV               [0.1 0.1 0.2 0.2]\n",
      "RPN_NMS_THRESHOLD              0.7\n",
      "RPN_TRAIN_ANCHORS_PER_IMAGE    256\n",
      "STEPS_PER_EPOCH                100\n",
      "TRAIN_ROIS_PER_IMAGE           100\n",
      "USE_MINI_MASK                  False\n",
      "USE_RPN_ROIS                   True\n",
      "VALIDATION_STEPS               5\n",
      "WEIGHT_DECAY                   0.0001\n",
      "\n",
      "\n"
     ]
    }
   ],
   "source": [
    "class NucleiConfig(Config):\n",
    "    \"\"\"Configuration for training on the toy shapes dataset.\n",
    "    Derives from the base Config class and overrides values specific\n",
    "    to the toy shapes dataset.\n",
    "    \"\"\"\n",
    "    # Give the configuration a name\n",
    "    NAME = \"shapes\"\n",
    "\n",
    "    GPU_COUNT = 1\n",
    "    IMAGES_PER_GPU = 2\n",
    "\n",
    "    # Number of classes (including background)\n",
    "    NUM_CLASSES = 1 + 1  # background + 1 shapes\n",
    "\n",
    "    IMAGE_MIN_DIM = 512\n",
    "    IMAGE_MAX_DIM = 512\n",
    "\n",
    "    RPN_ANCHOR_SCALES = (8, 16, 32, 64, 128)  # anchor side in pixels\n",
    "    \n",
    "    TRAIN_ROIS_PER_IMAGE = 128\n",
    "    MAX_GT_INSTANCES = 200\n",
    "    DETECTION_MAX_INSTANCES = 400\n",
    "\n",
    "    STEPS_PER_EPOCH = 600//IMAGES_PER_GPU\n",
    "    VALIDATION_STEPS = 70//IMAGES_PER_GPU  \n",
    "    USE_MINI_MASK=False    \n",
    "    DETECTION_NMS_THRESHOLD = 0.9\n",
    "    \n",
    "config = NucleiConfig()\n",
    "config.display()"
   ]
  },
  {
   "cell_type": "markdown",
   "metadata": {},
   "source": [
    "## Notebook Preferences"
   ]
  },
  {
   "cell_type": "code",
   "execution_count": 5,
   "metadata": {
    "collapsed": true
   },
   "outputs": [],
   "source": [
    "def get_ax(rows=1, cols=1, size=8):\n",
    "    \"\"\"Return a Matplotlib Axes array to be used in\n",
    "    all visualizations in the notebook. Provide a\n",
    "    central point to control graph sizes.\n",
    "    \n",
    "    Change the default size attribute to control the size\n",
    "    of rendered images\n",
    "    \"\"\"\n",
    "    _, ax = plt.subplots(rows, cols, figsize=(size*cols, size*rows))\n",
    "    return ax"
   ]
  },
  {
   "cell_type": "markdown",
   "metadata": {},
   "source": [
    "## Dataset\n",
    "\n",
    "Create a synthetic dataset\n",
    "\n",
    "Extend the Dataset class and add a method to load the shapes dataset, `load_shapes()`, and override the following methods:\n",
    "\n",
    "* load_image()\n",
    "* load_mask()\n",
    "* image_reference()"
   ]
  },
  {
   "cell_type": "code",
   "execution_count": 6,
   "metadata": {
    "collapsed": true
   },
   "outputs": [],
   "source": [
    "class NucleiDataset(utils.Dataset):\n",
    "    \"\"\"Generates the shapes synthetic dataset. The dataset consists of simple\n",
    "    shapes (triangles, squares, circles) placed randomly on a blank surface.\n",
    "    The images are generated on the fly. No file access required.\n",
    "    \"\"\"\n",
    "\n",
    "    def load_shapes(self,image_paths):\n",
    "        \"\"\"Generate the requested number of synthetic images.\n",
    "        count: number of images to generate.\n",
    "        height, width: the size of the generated images.\n",
    "        \"\"\"\n",
    "        # Add classes\n",
    "        self.add_class(\"nucleus\", 1, \"nucleus\")\n",
    "        \n",
    "        for i, path in enumerate(list(image_paths)):\n",
    "            \n",
    "            im_path = next(pathlib.Path(path).glob('images/*.png'))\n",
    "            mask_path_iter = pathlib.Path(path).glob('masks/*.png')\n",
    "            h , t = os.path.split(im_path)                                        \n",
    "            im = imread(im_path)\n",
    "            \n",
    "            self.add_image(\"nucleus\", image_id=os.path.splitext(t)[0], path=im_path, \\\n",
    "                           width=im.shape[0], height=im.shape[1], \\\n",
    "                           mask_path_iter=mask_path_iter)\n",
    "\n",
    "    def load_image(self, image_id):\n",
    "        \"\"\"Load the specified image and return a [H,W,3] Numpy array.\n",
    "        \"\"\"\n",
    "        # Load image\n",
    "        image = imread(self.image_info[image_id]['path'])\n",
    "\n",
    "        return image[:,:, :3]\n",
    "\n",
    "    def image_reference(self, image_id):\n",
    "        \"\"\"Return the shapes data of the image.\"\"\"\n",
    "        info = self.image_info[image_id]\n",
    "        if info[\"source\"] == \"shapes\":\n",
    "            return info[\"shapes\"]\n",
    "        else:\n",
    "            super(self.__class__).image_reference(self, image_id)\n",
    "\n",
    "    def load_mask(self, image_id):\n",
    "        \"\"\"Generate instance masks for shapes of the given image ID.\n",
    "        \"\"\"\n",
    "        info = self.image_info[image_id]\n",
    "        mask = imread(next(info['mask_path_iter']))\n",
    "        class_ids = np.ones((1), np.int32)         \n",
    "\n",
    "        for m in info['mask_path_iter']:\n",
    "            mask = np.dstack((mask, imread(m)))\n",
    "            class_ids = np.hstack((class_ids, np.ones((1), np.int32)))\n",
    "            \n",
    "        return mask, class_ids\n",
    "        "
   ]
  },
  {
   "cell_type": "code",
   "execution_count": 7,
   "metadata": {},
   "outputs": [
    {
     "data": {
      "text/plain": [
       "'/home/ubuntu/Mask_RCNN'"
      ]
     },
     "execution_count": 7,
     "metadata": {},
     "output_type": "execute_result"
    }
   ],
   "source": [
    "os.getcwd()"
   ]
  },
  {
   "cell_type": "code",
   "execution_count": 9,
   "metadata": {
    "collapsed": true
   },
   "outputs": [],
   "source": [
    "# Training dataset\n",
    "training_paths = pathlib.Path('/home/ubuntu/datasciencebowl2018/stage1_train').glob('*')\n",
    "val_paths = pathlib.Path('/home/ubuntu/datasciencebowl2018/stage1_val').glob('*')\n",
    "test_paths = pathlib.Path('/home/ubuntu/datasciencebowl2018/stage1_test').glob('*')\n",
    "\n",
    "# pdb.set_trace()\n",
    "dataset_train = NucleiDataset()\n",
    "dataset_train.load_shapes(training_paths)\n",
    "dataset_train.prepare()\n",
    "\n",
    "# Validation dataset\n",
    "dataset_val = NucleiDataset()\n",
    "dataset_val.load_shapes(val_paths)\n",
    "dataset_val.prepare()\n",
    "\n",
    "dataset_test = NucleiDataset()\n",
    "dataset_test.load_shapes(test_paths)\n",
    "dataset_test.prepare()"
   ]
  },
  {
   "cell_type": "code",
   "execution_count": 10,
   "metadata": {},
   "outputs": [
    {
     "data": {
      "text/plain": [
       "{'height': 360,\n",
       " 'id': '4c032609d377bd980e01f888e0b298600bf8af0e33c4271a1f3aaf76964dce06',\n",
       " 'mask_path_iter': <generator object Path.glob at 0x7f47a6bd6bf8>,\n",
       " 'path': PosixPath('/home/ubuntu/datasciencebowl2018/stage1_train/4c032609d377bd980e01f888e0b298600bf8af0e33c4271a1f3aaf76964dce06/images/4c032609d377bd980e01f888e0b298600bf8af0e33c4271a1f3aaf76964dce06.png'),\n",
       " 'source': 'nucleus',\n",
       " 'width': 360}"
      ]
     },
     "execution_count": 10,
     "metadata": {},
     "output_type": "execute_result"
    }
   ],
   "source": [
    "dataset_train.image_info[555]"
   ]
  },
  {
   "cell_type": "code",
   "execution_count": 11,
   "metadata": {},
   "outputs": [
    {
     "data": {
      "text/plain": [
       "{'height': 256,\n",
       " 'id': '38f5cfb55fc8b048e82a5c895b25fefae7a70c71ab9990c535d1030637bf6a1f',\n",
       " 'mask_path_iter': <generator object Path.glob at 0x7f47a6b20410>,\n",
       " 'path': PosixPath('/home/ubuntu/datasciencebowl2018/stage1_test/38f5cfb55fc8b048e82a5c895b25fefae7a70c71ab9990c535d1030637bf6a1f/images/38f5cfb55fc8b048e82a5c895b25fefae7a70c71ab9990c535d1030637bf6a1f.png'),\n",
       " 'source': 'nucleus',\n",
       " 'width': 256}"
      ]
     },
     "execution_count": 11,
     "metadata": {},
     "output_type": "execute_result"
    }
   ],
   "source": [
    "dataset_test.image_info[0]"
   ]
  },
  {
   "cell_type": "code",
   "execution_count": 12,
   "metadata": {},
   "outputs": [
    {
     "data": {
      "image/png": "[encoded data removed]",
      "text/plain": [
       "<Figure size 1008x360 with 5 Axes>"
      ]
     },
     "metadata": {},
     "output_type": "display_data"
    },
    {
     "data": {
      "image/png": "[encoded data removed]",
      "text/plain": [
       "<Figure size 1008x360 with 5 Axes>"
      ]
     },
     "metadata": {},
     "output_type": "display_data"
    },
    {
     "data": {
      "image/png": "[encoded data removed]",
      "text/plain": [
       "<Figure size 1008x360 with 5 Axes>"
      ]
     },
     "metadata": {},
     "output_type": "display_data"
    },
    {
     "data": {
      "image/png": "[encoded data removed]",
      "text/plain": [
       "<Figure size 1008x360 with 5 Axes>"
      ]
     },
     "metadata": {},
     "output_type": "display_data"
    }
   ],
   "source": [
    "# dataset_train.image_ids\n",
    "\n",
    "# pdb.set_trace()\n",
    "# Load and display random samples\n",
    "image_ids = np.random.choice(dataset_train.image_ids, 4)\n",
    "for image_id in image_ids:\n",
    "    image = dataset_train.load_image(image_id)\n",
    "    mask, class_ids = dataset_train.load_mask(image_id)\n",
    "    visualize.display_top_masks(image, mask, class_ids, dataset_train.class_names)"
   ]
  },
  {
   "cell_type": "markdown",
   "metadata": {},
   "source": [
    "## Create Model"
   ]
  },
  {
   "cell_type": "code",
   "execution_count": 17,
   "metadata": {
    "collapsed": true
   },
   "outputs": [],
   "source": [
    "# Create model in training mode\n",
    "model = modellib.MaskRCNN(mode=\"training\", config=config,\n",
    "                          model_dir=MODEL_DIR)"
   ]
  },
  {
   "cell_type": "code",
   "execution_count": 18,
   "metadata": {
    "scrolled": false
   },
   "outputs": [],
   "source": [
    "# Which weights to start with?\n",
    "init_with = \"load\"  # imagenet, coco, or last\n",
    "\n",
    "if init_with == \"imagenet\":\n",
    "    model.load_weights(model.get_imagenet_weights(), by_name=True)\n",
    "elif init_with == \"coco\":\n",
    "    model.load_weights(COCO_MODEL_PATH, by_name=True,\n",
    "                       exclude=[\"mrcnn_class_logits\", \"mrcnn_bbox_fc\", \n",
    "                                \"mrcnn_bbox\", \"mrcnn_mask\"])\n",
    "elif init_with == \"last\":\n",
    "    # Load the last model\n",
    "    model.load_weights(model.find_last()[1], by_name=True)\n",
    "    \n",
    "elif init_with == \"load\":\n",
    "    model.load_weights(os.path.join(MODEL_DIR, \"mask_rcnn_shapes_v8_3e.h5\"))"
   ]
  },
  {
   "cell_type": "markdown",
   "metadata": {},
   "source": [
    "Which weights to start with\n",
    "\n",
    "## Training\n",
    "\n",
    "Train in two stages:\n",
    "1. Only the heads. Here we're freezing all the backbone layers and training only the randomly initialized layers (i.e. the ones that we didn't use pre-trained weights from MS COCO). To train only the head layers, pass `layers='heads'` to the `train()` function.\n",
    "\n",
    "2. Fine-tune all layers. For this simple example it's not necessary, but we're including it to show the process. Simply pass `layers=\"all` to train all layers."
   ]
  },
  {
   "cell_type": "code",
   "execution_count": null,
   "metadata": {
    "scrolled": false
   },
   "outputs": [],
   "source": [
    "# Train the head branches\n",
    "model.train(dataset_train, dataset_train, \n",
    "            learning_rate=config.LEARNING_RATE, \n",
    "            epochs=20, \n",
    "            layers='heads')\n",
    "\n",
    "# Fine tune all layers\n",
    "# model.train(dataset_train, dataset_val, \n",
    "#             learning_rate=config.LEARNING_RATE / 10,\n",
    "#             epochs=2, \n",
    "#             layers=\"all\")\n",
    "\n",
    "wt_filename = \"mask_rcnn_shapes_v8_4e.h5\"\n",
    "model_path = os.path.join(MODEL_DIR, wt_filename)\n",
    "model.keras_model.save_weights(model_path)"
   ]
  },
  {
   "cell_type": "markdown",
   "metadata": {},
   "source": [
    "## Detection"
   ]
  },
  {
   "cell_type": "code",
   "execution_count": 20,
   "metadata": {},
   "outputs": [
    {
     "name": "stdout",
     "output_type": "stream",
     "text": [
      "Loading weights from  /home/ubuntu/Mask_RCNN/logs/mask_rcnn_shapes_v8_4e.h5\n"
     ]
    }
   ],
   "source": [
    "class InferenceConfig(NucleiConfig):\n",
    "    GPU_COUNT = 1\n",
    "    IMAGES_PER_GPU = 1\n",
    "\n",
    "inference_config = InferenceConfig()\n",
    "\n",
    "# Recreate the model in inference mode\n",
    "model = modellib.MaskRCNN(mode=\"inference\", \n",
    "                          config=inference_config,\n",
    "                          model_dir=MODEL_DIR)\n",
    "\n",
    "# Get path to saved weights\n",
    "model_path = os.path.join(MODEL_DIR, wt_filename)\n",
    "\n",
    "# Load trained weights\n",
    "assert model_path != \"\", \"Provide path to trained weights\"\n",
    "print(\"Loading weights from \", model_path)\n",
    "model.load_weights(model_path, by_name=True)"
   ]
  },
  {
   "cell_type": "code",
   "execution_count": 21,
   "metadata": {},
   "outputs": [
    {
     "name": "stdout",
     "output_type": "stream",
     "text": [
      "Processing 1 images\n",
      "image                    shape: (256, 256, 3)         min:    0.00000  max:  101.00000\n",
      "molded_images            shape: (1, 512, 512, 3)      min: -122.70000  max:   -3.90000\n",
      "image_metas              shape: (1, 10)               min:    0.00000  max:  512.00000\n",
      "Processing 1 images\n",
      "image                    shape: (519, 253, 3)         min:   11.00000  max:  211.00000\n",
      "molded_images            shape: (1, 512, 512, 3)      min: -123.70000  max:  107.10000\n",
      "image_metas              shape: (1, 10)               min:    0.00000  max:  519.00000\n",
      "Processing 1 images\n",
      "image                    shape: (512, 640, 3)         min:    0.00000  max:  192.00000\n",
      "molded_images            shape: (1, 512, 512, 3)      min: -123.70000  max:   65.10000\n",
      "image_metas              shape: (1, 10)               min:    0.00000  max:  640.00000\n",
      "Processing 1 images\n",
      "image                    shape: (256, 256, 3)         min:   10.00000  max:  255.00000\n",
      "molded_images            shape: (1, 512, 512, 3)      min: -112.70000  max:  151.10000\n",
      "image_metas              shape: (1, 10)               min:    0.00000  max:  512.00000\n",
      "Processing 1 images\n",
      "image                    shape: (512, 640, 3)         min:    0.00000  max:   76.00000\n",
      "molded_images            shape: (1, 512, 512, 3)      min: -123.70000  max:  -31.90000\n",
      "image_metas              shape: (1, 10)               min:    0.00000  max:  640.00000\n",
      "Processing 1 images\n",
      "image                    shape: (512, 680, 3)         min:    0.00000  max:  255.00000\n",
      "molded_images            shape: (1, 512, 512, 3)      min: -123.70000  max:  151.10000\n",
      "image_metas              shape: (1, 10)               min:    0.00000  max:  680.00000\n",
      "Processing 1 images\n",
      "image                    shape: (256, 256, 3)         min:    9.00000  max:  255.00000\n",
      "molded_images            shape: (1, 512, 512, 3)      min: -113.70000  max:  151.10000\n",
      "image_metas              shape: (1, 10)               min:    0.00000  max:  512.00000\n",
      "Processing 1 images\n",
      "image                    shape: (256, 256, 3)         min:    1.00000  max:  121.00000\n",
      "molded_images            shape: (1, 512, 512, 3)      min: -122.70000  max:   17.10000\n",
      "image_metas              shape: (1, 10)               min:    0.00000  max:  512.00000\n",
      "Processing 1 images\n",
      "image                    shape: (260, 347, 3)         min:    2.00000  max:  255.00000\n",
      "molded_images            shape: (1, 512, 512, 3)      min: -123.70000  max:  151.10000\n",
      "image_metas              shape: (1, 10)               min:    0.00000  max:  512.00000\n",
      "Processing 1 images\n",
      "image                    shape: (519, 253, 3)         min:    9.00000  max:  101.00000\n",
      "molded_images            shape: (1, 512, 512, 3)      min: -123.70000  max:   -5.90000\n",
      "image_metas              shape: (1, 10)               min:    0.00000  max:  519.00000\n",
      "Processing 1 images\n",
      "image                    shape: (260, 347, 3)         min:   28.00000  max:  255.00000\n",
      "molded_images            shape: (1, 512, 512, 3)      min: -123.70000  max:  151.10000\n",
      "image_metas              shape: (1, 10)               min:    0.00000  max:  512.00000\n",
      "Processing 1 images\n",
      "image                    shape: (256, 256, 3)         min:    9.00000  max:  255.00000\n",
      "molded_images            shape: (1, 512, 512, 3)      min: -113.70000  max:  151.10000\n",
      "image_metas              shape: (1, 10)               min:    0.00000  max:  512.00000\n",
      "Processing 1 images\n",
      "image                    shape: (520, 348, 3)         min:    5.00000  max:  255.00000\n",
      "molded_images            shape: (1, 512, 512, 3)      min: -123.70000  max:  151.10000\n",
      "image_metas              shape: (1, 10)               min:    0.00000  max:  520.00000\n",
      "Processing 1 images\n",
      "image                    shape: (256, 256, 3)         min:    9.00000  max:  255.00000\n",
      "molded_images            shape: (1, 512, 512, 3)      min: -113.70000  max:  151.10000\n",
      "image_metas              shape: (1, 10)               min:    0.00000  max:  512.00000\n",
      "Processing 1 images\n",
      "image                    shape: (256, 256, 3)         min:    8.00000  max:  192.00000\n",
      "molded_images            shape: (1, 512, 512, 3)      min: -114.70000  max:   83.10000\n",
      "image_metas              shape: (1, 10)               min:    0.00000  max:  512.00000\n",
      "Processing 1 images\n",
      "image                    shape: (519, 161, 3)         min:    0.00000  max:  255.00000\n",
      "molded_images            shape: (1, 512, 512, 3)      min: -123.70000  max:  151.10000\n",
      "image_metas              shape: (1, 10)               min:    0.00000  max:  519.00000\n",
      "Processing 1 images\n",
      "image                    shape: (260, 347, 3)         min:    0.00000  max:  255.00000\n",
      "molded_images            shape: (1, 512, 512, 3)      min: -123.70000  max:  151.10000\n",
      "image_metas              shape: (1, 10)               min:    0.00000  max:  512.00000\n",
      "Processing 1 images\n",
      "image                    shape: (524, 348, 3)         min:    0.00000  max:  255.00000\n",
      "molded_images            shape: (1, 512, 512, 3)      min: -123.70000  max:  151.10000\n",
      "image_metas              shape: (1, 10)               min:    0.00000  max:  524.00000\n",
      "Processing 1 images\n",
      "image                    shape: (512, 680, 3)         min:    0.00000  max:  255.00000\n",
      "molded_images            shape: (1, 512, 512, 3)      min: -123.70000  max:  151.10000\n",
      "image_metas              shape: (1, 10)               min:    0.00000  max:  680.00000\n",
      "Processing 1 images\n",
      "image                    shape: (520, 696, 3)         min:   11.00000  max:  230.00000\n",
      "molded_images            shape: (1, 512, 512, 3)      min: -123.70000  max:  126.10000\n",
      "image_metas              shape: (1, 10)               min:    0.00000  max:  696.00000\n",
      "Processing 1 images\n",
      "image                    shape: (256, 256, 3)         min:    1.00000  max:   95.00000\n",
      "molded_images            shape: (1, 512, 512, 3)      min: -122.70000  max:   -9.90000\n",
      "image_metas              shape: (1, 10)               min:    0.00000  max:  512.00000\n",
      "Processing 1 images\n",
      "image                    shape: (256, 256, 3)         min:   10.00000  max:  255.00000\n",
      "molded_images            shape: (1, 512, 512, 3)      min: -112.70000  max:  151.10000\n",
      "image_metas              shape: (1, 10)               min:    0.00000  max:  512.00000\n",
      "Processing 1 images\n",
      "image                    shape: (512, 680, 3)         min:    0.00000  max:  255.00000\n",
      "molded_images            shape: (1, 512, 512, 3)      min: -123.70000  max:  151.10000\n",
      "image_metas              shape: (1, 10)               min:    0.00000  max:  680.00000\n",
      "Processing 1 images\n",
      "image                    shape: (256, 256, 3)         min:    0.00000  max:  108.00000\n",
      "molded_images            shape: (1, 512, 512, 3)      min: -122.70000  max:    1.10000\n",
      "image_metas              shape: (1, 10)               min:    0.00000  max:  512.00000\n",
      "Processing 1 images\n",
      "image                    shape: (256, 256, 3)         min:    9.00000  max:  255.00000\n",
      "molded_images            shape: (1, 512, 512, 3)      min: -113.70000  max:  151.10000\n",
      "image_metas              shape: (1, 10)               min:    0.00000  max:  512.00000\n",
      "Processing 1 images\n",
      "image                    shape: (512, 640, 3)         min:    0.00000  max:  109.00000\n",
      "molded_images            shape: (1, 512, 512, 3)      min: -123.70000  max:   -6.90000\n",
      "image_metas              shape: (1, 10)               min:    0.00000  max:  640.00000\n",
      "Processing 1 images\n",
      "image                    shape: (390, 239, 3)         min:    0.00000  max:   81.00000\n",
      "molded_images            shape: (1, 512, 512, 3)      min: -123.70000  max:  -25.90000\n",
      "image_metas              shape: (1, 10)               min:    0.00000  max:  512.00000\n",
      "Processing 1 images\n",
      "image                    shape: (512, 680, 3)         min:    0.00000  max:  255.00000\n",
      "molded_images            shape: (1, 512, 512, 3)      min: -123.70000  max:  151.10000\n",
      "image_metas              shape: (1, 10)               min:    0.00000  max:  680.00000\n",
      "Processing 1 images\n",
      "image                    shape: (260, 347, 3)         min:   26.00000  max:  255.00000\n",
      "molded_images            shape: (1, 512, 512, 3)      min: -123.70000  max:  151.10000\n",
      "image_metas              shape: (1, 10)               min:    0.00000  max:  512.00000\n",
      "Processing 1 images\n",
      "image                    shape: (519, 162, 3)         min:    3.00000  max:  255.00000\n",
      "molded_images            shape: (1, 512, 512, 3)      min: -123.70000  max:  151.10000\n",
      "image_metas              shape: (1, 10)               min:    0.00000  max:  519.00000\n",
      "Processing 1 images\n",
      "image                    shape: (524, 348, 3)         min:    0.00000  max:  253.00000\n",
      "molded_images            shape: (1, 512, 512, 3)      min: -123.70000  max:  142.10000\n",
      "image_metas              shape: (1, 10)               min:    0.00000  max:  524.00000\n",
      "Processing 1 images\n",
      "image                    shape: (256, 256, 3)         min:    0.00000  max:  245.00000\n",
      "molded_images            shape: (1, 512, 512, 3)      min: -123.70000  max:  136.10000\n",
      "image_metas              shape: (1, 10)               min:    0.00000  max:  512.00000\n",
      "Processing 1 images\n",
      "image                    shape: (512, 640, 3)         min:    0.00000  max:  186.00000\n",
      "molded_images            shape: (1, 512, 512, 3)      min: -123.70000  max:   71.10000\n",
      "image_metas              shape: (1, 10)               min:    0.00000  max:  640.00000\n",
      "Processing 1 images\n",
      "image                    shape: (256, 256, 3)         min:   10.00000  max:  255.00000\n",
      "molded_images            shape: (1, 512, 512, 3)      min: -112.70000  max:  151.10000\n",
      "image_metas              shape: (1, 10)               min:    0.00000  max:  512.00000\n",
      "Processing 1 images\n",
      "image                    shape: (520, 348, 3)         min:    3.00000  max:  255.00000\n",
      "molded_images            shape: (1, 512, 512, 3)      min: -123.70000  max:  151.10000\n",
      "image_metas              shape: (1, 10)               min:    0.00000  max:  520.00000\n",
      "Processing 1 images\n",
      "image                    shape: (520, 348, 3)         min:    3.00000  max:  186.00000\n",
      "molded_images            shape: (1, 512, 512, 3)      min: -123.70000  max:   81.10000\n",
      "image_metas              shape: (1, 10)               min:    0.00000  max:  520.00000\n",
      "Processing 1 images\n",
      "image                    shape: (512, 640, 3)         min:    0.00000  max:  109.00000\n",
      "molded_images            shape: (1, 512, 512, 3)      min: -123.70000  max:   -8.90000\n",
      "image_metas              shape: (1, 10)               min:    0.00000  max:  640.00000\n",
      "Processing 1 images\n",
      "image                    shape: (519, 162, 3)         min:    1.00000  max:  205.00000\n",
      "molded_images            shape: (1, 512, 512, 3)      min: -123.70000  max:   96.10000\n",
      "image_metas              shape: (1, 10)               min:    0.00000  max:  519.00000\n",
      "Processing 1 images\n",
      "image                    shape: (520, 696, 3)         min:   10.00000  max:  237.00000\n",
      "molded_images            shape: (1, 512, 512, 3)      min: -123.70000  max:  133.10000\n",
      "image_metas              shape: (1, 10)               min:    0.00000  max:  696.00000\n",
      "Processing 1 images\n",
      "image                    shape: (256, 256, 3)         min:   10.00000  max:  255.00000\n",
      "molded_images            shape: (1, 512, 512, 3)      min: -112.70000  max:  144.10000\n",
      "image_metas              shape: (1, 10)               min:    0.00000  max:  512.00000\n",
      "Processing 1 images\n",
      "image                    shape: (512, 640, 3)         min:    1.00000  max:  153.00000\n",
      "molded_images            shape: (1, 512, 512, 3)      min: -123.70000  max:   34.10000\n",
      "image_metas              shape: (1, 10)               min:    0.00000  max:  640.00000\n",
      "Processing 1 images\n",
      "image                    shape: (256, 256, 3)         min:    0.00000  max:  255.00000\n",
      "molded_images            shape: (1, 512, 512, 3)      min: -123.70000  max:  151.10000\n",
      "image_metas              shape: (1, 10)               min:    0.00000  max:  512.00000\n",
      "Processing 1 images\n",
      "image                    shape: (520, 348, 3)         min:    0.00000  max:  201.00000\n",
      "molded_images            shape: (1, 512, 512, 3)      min: -123.70000  max:   91.10000\n",
      "image_metas              shape: (1, 10)               min:    0.00000  max:  520.00000\n",
      "Processing 1 images\n",
      "image                    shape: (512, 680, 3)         min:    0.00000  max:  255.00000\n",
      "molded_images            shape: (1, 512, 512, 3)      min: -123.70000  max:  151.10000\n",
      "image_metas              shape: (1, 10)               min:    0.00000  max:  680.00000\n",
      "Processing 1 images\n",
      "image                    shape: (519, 161, 3)         min:    5.00000  max:  255.00000\n",
      "molded_images            shape: (1, 512, 512, 3)      min: -123.70000  max:  151.10000\n",
      "image_metas              shape: (1, 10)               min:    0.00000  max:  519.00000\n",
      "Processing 1 images\n",
      "image                    shape: (256, 256, 3)         min:    1.00000  max:   79.00000\n",
      "molded_images            shape: (1, 512, 512, 3)      min: -121.70000  max:  -25.90000\n",
      "image_metas              shape: (1, 10)               min:    0.00000  max:  512.00000\n",
      "Processing 1 images\n",
      "image                    shape: (512, 680, 3)         min:    0.00000  max:  255.00000\n",
      "molded_images            shape: (1, 512, 512, 3)      min: -123.70000  max:  151.10000\n",
      "image_metas              shape: (1, 10)               min:    0.00000  max:  680.00000\n",
      "Processing 1 images\n",
      "image                    shape: (512, 640, 3)         min:    0.00000  max:  126.00000\n",
      "molded_images            shape: (1, 512, 512, 3)      min: -123.70000  max:   10.10000\n",
      "image_metas              shape: (1, 10)               min:    0.00000  max:  640.00000\n",
      "Processing 1 images\n",
      "image                    shape: (520, 696, 3)         min:   11.00000  max:  225.00000\n",
      "molded_images            shape: (1, 512, 512, 3)      min: -123.70000  max:  120.10000\n",
      "image_metas              shape: (1, 10)               min:    0.00000  max:  696.00000\n",
      "Processing 1 images\n",
      "image                    shape: (519, 253, 3)         min:   11.00000  max:  242.00000\n",
      "molded_images            shape: (1, 512, 512, 3)      min: -123.70000  max:  137.10000\n",
      "image_metas              shape: (1, 10)               min:    0.00000  max:  519.00000\n",
      "Processing 1 images\n",
      "image                    shape: (256, 256, 3)         min:   10.00000  max:  255.00000\n",
      "molded_images            shape: (1, 512, 512, 3)      min: -112.70000  max:  146.10000\n",
      "image_metas              shape: (1, 10)               min:    0.00000  max:  512.00000\n",
      "Processing 1 images\n",
      "image                    shape: (256, 256, 3)         min:    1.00000  max:   93.00000\n",
      "molded_images            shape: (1, 512, 512, 3)      min: -122.70000  max:  -11.90000\n",
      "image_metas              shape: (1, 10)               min:    0.00000  max:  512.00000\n",
      "Processing 1 images\n",
      "image                    shape: (524, 348, 3)         min:    0.00000  max:  255.00000\n",
      "molded_images            shape: (1, 512, 512, 3)      min: -123.70000  max:  151.10000\n",
      "image_metas              shape: (1, 10)               min:    0.00000  max:  524.00000\n",
      "Processing 1 images\n",
      "image                    shape: (256, 256, 3)         min:    9.00000  max:  255.00000\n",
      "molded_images            shape: (1, 512, 512, 3)      min: -113.70000  max:  151.10000\n",
      "image_metas              shape: (1, 10)               min:    0.00000  max:  512.00000\n",
      "Processing 1 images\n",
      "image                    shape: (512, 640, 3)         min:    0.00000  max:  177.00000\n",
      "molded_images            shape: (1, 512, 512, 3)      min: -123.70000  max:   47.10000\n",
      "image_metas              shape: (1, 10)               min:    0.00000  max:  640.00000\n",
      "Processing 1 images\n",
      "image                    shape: (512, 680, 3)         min:    0.00000  max:  255.00000\n",
      "molded_images            shape: (1, 512, 512, 3)      min: -123.70000  max:  151.10000\n",
      "image_metas              shape: (1, 10)               min:    0.00000  max:  680.00000\n",
      "Processing 1 images\n",
      "image                    shape: (520, 696, 3)         min:   11.00000  max:  222.00000\n",
      "molded_images            shape: (1, 512, 512, 3)      min: -123.70000  max:  117.10000\n",
      "image_metas              shape: (1, 10)               min:    0.00000  max:  696.00000\n",
      "Processing 1 images\n",
      "image                    shape: (256, 256, 3)         min:    0.00000  max:  255.00000\n",
      "molded_images            shape: (1, 512, 512, 3)      min: -123.70000  max:  151.10000\n",
      "image_metas              shape: (1, 10)               min:    0.00000  max:  512.00000\n",
      "Processing 1 images\n",
      "image                    shape: (524, 348, 3)         min:    0.00000  max:  255.00000\n",
      "molded_images            shape: (1, 512, 512, 3)      min: -123.70000  max:  148.10000\n",
      "image_metas              shape: (1, 10)               min:    0.00000  max:  524.00000\n",
      "Processing 1 images\n",
      "image                    shape: (256, 256, 3)         min:    0.00000  max:  255.00000\n",
      "molded_images            shape: (1, 512, 512, 3)      min: -123.70000  max:  151.10000\n",
      "image_metas              shape: (1, 10)               min:    0.00000  max:  512.00000\n",
      "Processing 1 images\n",
      "image                    shape: (512, 680, 3)         min:    0.00000  max:  255.00000\n",
      "molded_images            shape: (1, 512, 512, 3)      min: -123.70000  max:  142.10000\n",
      "image_metas              shape: (1, 10)               min:    0.00000  max:  680.00000\n",
      "Processing 1 images\n",
      "image                    shape: (256, 256, 3)         min:    1.00000  max:   82.00000\n",
      "molded_images            shape: (1, 512, 512, 3)      min: -122.70000  max:  -22.90000\n",
      "image_metas              shape: (1, 10)               min:    0.00000  max:  512.00000\n",
      "Processing 1 images\n",
      "image                    shape: (256, 256, 3)         min:    0.00000  max:   89.00000\n",
      "molded_images            shape: (1, 512, 512, 3)      min: -123.70000  max:  -15.90000\n",
      "image_metas              shape: (1, 10)               min:    0.00000  max:  512.00000\n",
      "Processing 1 images\n",
      "image                    shape: (256, 256, 3)         min:   10.00000  max:  255.00000\n",
      "molded_images            shape: (1, 512, 512, 3)      min: -112.70000  max:  151.10000\n",
      "image_metas              shape: (1, 10)               min:    0.00000  max:  512.00000\n",
      "Processing 1 images\n",
      "image                    shape: (519, 253, 3)         min:   10.00000  max:  225.00000\n",
      "molded_images            shape: (1, 512, 512, 3)      min: -123.70000  max:  120.10000\n",
      "image_metas              shape: (1, 10)               min:    0.00000  max:  519.00000\n"
     ]
    }
   ],
   "source": [
    "# Loop through labels and add each to a DataFrame\n",
    "import datetime\n",
    "\n",
    "def create_csv(dataset, model):\n",
    "    \n",
    "    im_df = pd.DataFrame()\n",
    "\n",
    "    for m in dataset.image_ids:\n",
    "\n",
    "        image = dataset.load_image(m)\n",
    "        results = model.detect([image], verbose=1)\n",
    "        r = results[0]\n",
    "\n",
    "        for i in range(r['masks'].shape[2]):\n",
    "            rle = rle_encoding(r['masks'][:, :, i])\n",
    "            rle = ' '.join(np.array(rle).astype(str))\n",
    "            s = pd.Series({'ImageId': dataset.image_info[m]['id'], 'EncodedPixels': rle})\n",
    "\n",
    "            im_df = im_df.append(s, ignore_index=True)\n",
    "\n",
    "#     csv_filename = 'submission' + datetime.datetime.now().strftime(\"%Y%m%d-%H%M%S\") + '.csv'\n",
    "    csv_filename = 'submission' + wt_filename[0:-3] + '.csv'\n",
    "    im_df[['ImageId', 'EncodedPixels']].to_csv(csv_filename, index=None)\n",
    "    \n",
    "\n",
    "create_csv(dataset_test, model)"
   ]
  },
  {
   "cell_type": "code",
   "execution_count": null,
   "metadata": {
    "collapsed": true
   },
   "outputs": [],
   "source": [
    "# Load and display random samples\n",
    "image_id = random.choice(dataset_train.image_ids)\n",
    "image = dataset_train.load_image(image_id)\n",
    "mask, class_ids = dataset_train.load_mask(image_id)\n",
    "visualize.display_top_masks(image, mask, class_ids, dataset_train.class_names)"
   ]
  },
  {
   "cell_type": "code",
   "execution_count": null,
   "metadata": {
    "collapsed": true
   },
   "outputs": [],
   "source": [
    "# Test on a random image\n",
    "# image_id = random.choice(dataset_val.image_ids)\n",
    "# image_id = random.choice(dataset_train.image_ids)\n",
    "# image = dataset_train.load_image(image_id)\n",
    "\n",
    "# Run detection\n",
    "results = model.detect([image], verbose=1)\n",
    "\n",
    "# Visualize results\n",
    "r = results[0]\n",
    "\n",
    "visualize.display_instances(image, r['rois'], r['masks'], r['class_ids'], \n",
    "                            dataset_train.class_names, r['scores'], ax=get_ax())"
   ]
  },
  {
   "cell_type": "code",
   "execution_count": null,
   "metadata": {
    "collapsed": true
   },
   "outputs": [],
   "source": [
    "original_image, image_meta, gt_class_id, gt_bbox, gt_mask = modellib.load_image_gt(dataset_train, inference_config, \n",
    "                           image_id, use_mini_mask=False)\n",
    "log(\"original_image\", original_image)\n",
    "log(\"image_meta\", image_meta)\n",
    "log(\"gt_class_id\", gt_class_id)\n",
    "log(\"gt_bbox\", gt_bbox)\n",
    "log(\"gt_mask\", gt_mask)\n",
    "\n",
    "visualize.display_instances(original_image, gt_bbox, gt_mask, gt_class_id, \n",
    "                            dataset_train.class_names, figsize=(8, 8))"
   ]
  },
  {
   "cell_type": "code",
   "execution_count": null,
   "metadata": {
    "collapsed": true
   },
   "outputs": [],
   "source": [
    "results = model.detect([original_image], verbose=1)\n",
    "\n",
    "r = results[0]\n",
    "visualize.display_instances(original_image, r['rois'], r['masks'], r['class_ids'], \n",
    "                            dataset_val.class_names, r['scores'], ax=get_ax())"
   ]
  },
  {
   "cell_type": "markdown",
   "metadata": {},
   "source": [
    "## Evaluation"
   ]
  },
  {
   "cell_type": "code",
   "execution_count": null,
   "metadata": {
    "collapsed": true
   },
   "outputs": [],
   "source": [
    "# Compute VOC-Style mAP @ IoU=0.5\n",
    "image_ids = np.random.choice(dataset_train.image_ids, 10)\n",
    "APs = []\n",
    "for image_id in image_ids:\n",
    "    # Load image and ground truth data\n",
    "    image, image_meta, gt_class_id, gt_bbox, gt_mask =\\\n",
    "        modellib.load_image_gt(dataset_train, inference_config,\n",
    "                               image_id, use_mini_mask=False)\n",
    "    molded_images = np.expand_dims(modellib.mold_image(image, inference_config), 0)\n",
    "    # Run object detection\n",
    "    results = model.detect([image], verbose=0)\n",
    "    r = results[0]\n",
    "    # Compute AP\n",
    "    AP, precisions, recalls, overlaps =\\\n",
    "        utils.compute_ap(gt_bbox, gt_class_id, gt_mask,\n",
    "                         r[\"rois\"], r[\"class_ids\"], r[\"scores\"], r['masks'])\n",
    "    APs.append(AP)\n",
    "    \n",
    "print(\"mAP: \", np.mean(APs))\n",
    "print(\"precison: \", precisions)\n",
    "print(\"recalls: \", recalls)\n",
    "print(\"overlaps: \", overlaps)"
   ]
  }
 ],
 "metadata": {
  "anaconda-cloud": {},
  "kernelspec": {
   "display_name": "Python [conda env:py34]",
   "language": "python",
   "name": "conda-env-py34-py"
  },
  "language_info": {
   "codemirror_mode": {
    "name": "ipython",
    "version": 3
   },
   "file_extension": ".py",
   "mimetype": "text/x-python",
   "name": "python",
   "nbconvert_exporter": "python",
   "pygments_lexer": "ipython3",
   "version": "3.6.4"
  }
 },
 "nbformat": 4,
 "nbformat_minor": 2
}
